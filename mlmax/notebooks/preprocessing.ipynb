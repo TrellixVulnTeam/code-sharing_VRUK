{
 "cells": [
  {
   "cell_type": "markdown",
   "metadata": {},
   "source": [
    "## SageMaker Preprocessing\n",
    "\n",
    "Now imagine that you can performed data analysis using jupyter notebook and have finalized what kind of data transformation that needs to be done. All the code has also been placed into a python script.\n",
    "\n",
    "Instead of running locally, you are now ready to perform data preprocessing using SageMaker processing job with managed ec2 instance.\n",
    "\n"
   ]
  },
  {
   "cell_type": "markdown",
   "metadata": {},
   "source": [
    "### Reference\n",
    "https://sagemaker.readthedocs.io/en/stable/amazon_sagemaker_processing.html\n",
    "\n",
    "Input/Output files to be placed in `/opt/ml/processing/{input,output}`"
   ]
  },
  {
   "cell_type": "markdown",
   "metadata": {},
   "source": [
    "### Setup\n",
    "\n",
    "Create local directory and update user owner/group\n",
    "\n",
    "Take note that this directory will be deleted after notebook shutdown"
   ]
  },
  {
   "cell_type": "code",
   "execution_count": 1,
   "metadata": {},
   "outputs": [],
   "source": [
    "# one time setup to create directory\n",
    "!sudo mkdir -p /opt/ml/processing\n",
    "!sudo chown -R ec2-user:ec2-user /opt/ml/processing"
   ]
  },
  {
   "cell_type": "markdown",
   "metadata": {},
   "source": [
    "### Verify python script\n",
    "\n",
    "Verify that your script can run successfully without any bug to speed up development"
   ]
  },
  {
   "cell_type": "code",
   "execution_count": 2,
   "metadata": {},
   "outputs": [
    {
     "name": "stdout",
     "output_type": "stream",
     "text": [
      "Received arguments Namespace(data_dir='/tmp', data_input='input/census-income.csv', mode='train', train_test_split_ratio=0.3)\n",
      "Reading input data from /tmp/input/census-income.csv\n",
      "Data after cleaning: (68285, 9), 11401 positive examples, 56884 negative examples\n",
      "Splitting data into train and test sets with ratio 0.3\n",
      "        age                    education  ... capital losses dividends from stocks\n",
      "26873    28             5th or 6th grade  ...              0                     0\n",
      "179865   31   Bachelors degree(BA AB BS)  ...              0                     0\n",
      "\n",
      "[2 rows x 8 columns]\n",
      "Creating preprocessing and feature engineering transformations\n",
      "Saving model to /tmp/model/proc_model.tar.gz\n",
      "Data shape after preprocessing: (47799, 69)\n",
      "Data shape after preprocessing: (20486, 69)\n",
      "Saving data to /tmp/train/train_features.csv\n",
      "Saving data to /tmp/train/train_labels.csv\n",
      "Saving data to /tmp/test/test_features.csv\n",
      "Saving data to /tmp/test/test_labels.csv\n"
     ]
    },
    {
     "name": "stderr",
     "output_type": "stream",
     "text": [
      "/home/ec2-user/anaconda3/envs/python3/lib/python3.6/site-packages/sklearn/preprocessing/_discretization.py:222: UserWarning: Bins whose width are too small (i.e., <= 1e-8) in feature 1 are removed. Consider decreasing the number of bins.\n",
      "  'decreasing the number of bins.' % jj)\n"
     ]
    }
   ],
   "source": [
    "%%bash\n",
    "\n",
    "# DATA=s3://sagemaker-sample-data-us-east-1/processing/census/census-income.csv\n",
    "# aws s3 cp $DATA /tmp/input/\n",
    "# mkdir /tmp/{train,test,model}\n",
    "python ../src/mlmax/preprocessing.py --mode \"train\" --data-dir /tmp\n"
   ]
  },
  {
   "cell_type": "code",
   "execution_count": 3,
   "metadata": {},
   "outputs": [
    {
     "name": "stdout",
     "output_type": "stream",
     "text": [
      "total 15336\n",
      "-rw-rw-r-- 1 ec2-user ec2-user 15605086 Sep 21 00:14 train_features.csv\n",
      "-rw-rw-r-- 1 ec2-user ec2-user    95598 Sep 21 00:14 train_labels.csv\n"
     ]
    }
   ],
   "source": [
    "# Quick check on output files\n",
    "!ls -l /tmp/train/"
   ]
  },
  {
   "cell_type": "code",
   "execution_count": 4,
   "metadata": {},
   "outputs": [
    {
     "name": "stdout",
     "output_type": "stream",
     "text": [
      "upload: ../src/mlmax/preprocessing.py to s3://wy-cba/source/preprocessing.py\n"
     ]
    }
   ],
   "source": [
    "# Copy to S3\n",
    "! aws s3 cp ../src/mlmax/preprocessing.py s3://wy-cba/source/"
   ]
  },
  {
   "cell_type": "markdown",
   "metadata": {},
   "source": [
    "### Run on SageMaker processing"
   ]
  },
  {
   "cell_type": "markdown",
   "metadata": {},
   "source": [
    "import required packages"
   ]
  },
  {
   "cell_type": "code",
   "execution_count": 5,
   "metadata": {},
   "outputs": [],
   "source": [
    "import sagemaker\n",
    "from sagemaker.processing import ProcessingInput, ProcessingOutput  # noqa\n",
    "from sagemaker.sklearn.processing import ScriptProcessor, SKLearnProcessor  # noqa\n",
    "from pathlib import Path"
   ]
  },
  {
   "cell_type": "markdown",
   "metadata": {},
   "source": [
    "Setup directory and parameters"
   ]
  },
  {
   "cell_type": "code",
   "execution_count": 6,
   "metadata": {},
   "outputs": [],
   "source": [
    "role = \"arn:aws:iam::342474125894:role/service-role/AmazonSageMaker-ExecutionRole-20190405T234154\"\n",
    "s3_bucket = \"wy-project-template\""
   ]
  },
  {
   "cell_type": "markdown",
   "metadata": {},
   "source": [
    "Create sklearn processor"
   ]
  },
  {
   "cell_type": "code",
   "execution_count": 7,
   "metadata": {},
   "outputs": [
    {
     "name": "stdout",
     "output_type": "stream",
     "text": [
      "Container image: 121021644041.dkr.ecr.ap-southeast-1.amazonaws.com/sagemaker-scikit-learn:0.23-1-cpu-py3\n"
     ]
    }
   ],
   "source": [
    "local_mode = False\n",
    "\n",
    "if local_mode:\n",
    "    instance_type = \"local\"\n",
    "else:\n",
    "    instance_type = \"ml.m5.xlarge\"\n",
    "\n",
    "processor = SKLearnProcessor(\n",
    "    framework_version=\"0.23-1\",\n",
    "    instance_type=instance_type,\n",
    "    instance_count=1,\n",
    "    role=role,\n",
    ")\n",
    "\n",
    "print(f\"Container image: {processor.image_uri}\")"
   ]
  },
  {
   "cell_type": "markdown",
   "metadata": {},
   "source": [
    "### S3 - directory mapping\n",
    "\n",
    "Understand the data mapping between S3 and local directory"
   ]
  },
  {
   "cell_type": "code",
   "execution_count": 8,
   "metadata": {},
   "outputs": [
    {
     "name": "stdout",
     "output_type": "stream",
     "text": [
      "\n",
      "Job Name:  sagemaker-scikit-learn-2021-09-21-00-14-20-811\n",
      "Inputs:  [{'InputName': 'input-1', 'AppManaged': False, 'S3Input': {'S3Uri': 's3://sagemaker-sample-data-ap-southeast-1/processing/census/census-income.csv', 'LocalPath': '/opt/ml/processing/input', 'S3DataType': 'S3Prefix', 'S3InputMode': 'File', 'S3DataDistributionType': 'FullyReplicated', 'S3CompressionType': 'None'}}, {'InputName': 'code', 'AppManaged': False, 'S3Input': {'S3Uri': 's3://sagemaker-ap-southeast-1-342474125894/sagemaker-scikit-learn-2021-09-21-00-14-20-811/input/code/preprocessing.py', 'LocalPath': '/opt/ml/processing/input/code', 'S3DataType': 'S3Prefix', 'S3InputMode': 'File', 'S3DataDistributionType': 'FullyReplicated', 'S3CompressionType': 'None'}}]\n",
      "Outputs:  [{'OutputName': 'output-1', 'AppManaged': False, 'S3Output': {'S3Uri': 's3://wy-project-template/sklearn/processed/train_data', 'LocalPath': '/opt/ml/processing/train', 'S3UploadMode': 'EndOfJob'}}, {'OutputName': 'output-2', 'AppManaged': False, 'S3Output': {'S3Uri': 's3://wy-project-template/sklearn/processed/test_data', 'LocalPath': '/opt/ml/processing/test', 'S3UploadMode': 'EndOfJob'}}, {'OutputName': 'output-3', 'AppManaged': False, 'S3Output': {'S3Uri': 's3://wy-project-template/sklearn/processed/model', 'LocalPath': '/opt/ml/processing/model', 'S3UploadMode': 'EndOfJob'}}]\n",
      "........................\u001b[34mReceived arguments Namespace(data_dir='opt/ml/processing', data_input='input/census-income.csv', mode='train', train_test_split_ratio=0.3)\u001b[0m\n",
      "\u001b[34mReading input data from opt/ml/processing/input/census-income.csv\u001b[0m\n",
      "\u001b[34mData after cleaning: (68285, 9), 11401 positive examples, 56884 negative examples\u001b[0m\n",
      "\u001b[34mSplitting data into train and test sets with ratio 0.3\n",
      "        age                    education  ... capital losses dividends from stocks\u001b[0m\n",
      "\u001b[34m26873    28             5th or 6th grade  ...              0                     0\u001b[0m\n",
      "\u001b[34m179865   31   Bachelors degree(BA AB BS)  ...              0                     0\n",
      "\u001b[0m\n",
      "\u001b[34m[2 rows x 8 columns]\u001b[0m\n",
      "\u001b[34mCreating preprocessing and feature engineering transformations\u001b[0m\n",
      "\u001b[34m/miniconda3/lib/python3.7/site-packages/sklearn/preprocessing/_discretization.py:202: UserWarning: Bins whose width are too small (i.e., <= 1e-8) in feature 1 are removed. Consider decreasing the number of bins.\n",
      "  'decreasing the number of bins.' % jj)\u001b[0m\n",
      "\u001b[34mSaving model to opt/ml/processing/model/proc_model.tar.gz\u001b[0m\n",
      "\u001b[34mData shape after preprocessing: (47799, 69)\u001b[0m\n",
      "\u001b[34mData shape after preprocessing: (20486, 69)\u001b[0m\n",
      "\u001b[34mSaving data to opt/ml/processing/train/train_features.csv\u001b[0m\n",
      "\u001b[34mSaving data to opt/ml/processing/train/train_labels.csv\u001b[0m\n",
      "\u001b[34mSaving data to opt/ml/processing/test/test_features.csv\u001b[0m\n",
      "\u001b[34mSaving data to opt/ml/processing/test/test_labels.csv\u001b[0m\n",
      "\n",
      "{'ProcessingInputs': [{'InputName': 'input-1', 'AppManaged': False, 'S3Input': {'S3Uri': 's3://sagemaker-sample-data-ap-southeast-1/processing/census/census-income.csv', 'LocalPath': '/opt/ml/processing/input', 'S3DataType': 'S3Prefix', 'S3InputMode': 'File', 'S3DataDistributionType': 'FullyReplicated', 'S3CompressionType': 'None'}}, {'InputName': 'code', 'AppManaged': False, 'S3Input': {'S3Uri': 's3://sagemaker-ap-southeast-1-342474125894/sagemaker-scikit-learn-2021-09-21-00-14-20-811/input/code/preprocessing.py', 'LocalPath': '/opt/ml/processing/input/code', 'S3DataType': 'S3Prefix', 'S3InputMode': 'File', 'S3DataDistributionType': 'FullyReplicated', 'S3CompressionType': 'None'}}], 'ProcessingOutputConfig': {'Outputs': [{'OutputName': 'output-1', 'S3Output': {'S3Uri': 's3://wy-project-template/sklearn/processed/train_data', 'LocalPath': '/opt/ml/processing/train', 'S3UploadMode': 'EndOfJob'}, 'AppManaged': False}, {'OutputName': 'output-2', 'S3Output': {'S3Uri': 's3://wy-project-template/sklearn/processed/test_data', 'LocalPath': '/opt/ml/processing/test', 'S3UploadMode': 'EndOfJob'}, 'AppManaged': False}, {'OutputName': 'output-3', 'S3Output': {'S3Uri': 's3://wy-project-template/sklearn/processed/model', 'LocalPath': '/opt/ml/processing/model', 'S3UploadMode': 'EndOfJob'}, 'AppManaged': False}]}, 'ProcessingJobName': 'sagemaker-scikit-learn-2021-09-21-00-14-20-811', 'ProcessingResources': {'ClusterConfig': {'InstanceCount': 1, 'InstanceType': 'ml.m5.xlarge', 'VolumeSizeInGB': 30}}, 'StoppingCondition': {'MaxRuntimeInSeconds': 86400}, 'AppSpecification': {'ImageUri': '121021644041.dkr.ecr.ap-southeast-1.amazonaws.com/sagemaker-scikit-learn:0.23-1-cpu-py3', 'ContainerEntrypoint': ['python3', '/opt/ml/processing/input/code/preprocessing.py'], 'ContainerArguments': ['--mode', 'train', '--preprocessor_name', 'preprocessor.pkl', '--test_size', '0.2']}, 'RoleArn': 'arn:aws:iam::342474125894:role/service-role/AmazonSageMaker-ExecutionRole-20190405T234154', 'ProcessingJobArn': 'arn:aws:sagemaker:ap-southeast-1:342474125894:processing-job/sagemaker-scikit-learn-2021-09-21-00-14-20-811', 'ProcessingJobStatus': 'Completed', 'ProcessingEndTime': datetime.datetime(2021, 9, 21, 0, 18, 31, 761000, tzinfo=tzlocal()), 'ProcessingStartTime': datetime.datetime(2021, 9, 21, 0, 18, 8, 325000, tzinfo=tzlocal()), 'LastModifiedTime': datetime.datetime(2021, 9, 21, 0, 18, 32, 35000, tzinfo=tzlocal()), 'CreationTime': datetime.datetime(2021, 9, 21, 0, 14, 21, 664000, tzinfo=tzlocal()), 'ResponseMetadata': {'RequestId': '42a17166-e398-444e-8b46-d2f8a3322208', 'HTTPStatusCode': 200, 'HTTPHeaders': {'x-amzn-requestid': '42a17166-e398-444e-8b46-d2f8a3322208', 'content-type': 'application/x-amz-json-1.1', 'content-length': '2195', 'date': 'Tue, 21 Sep 2021 00:19:05 GMT'}, 'RetryAttempts': 0}}\n"
     ]
    }
   ],
   "source": [
    "\n",
    "processor.run(\n",
    "    code=\"../src/mlmax/preprocessing.py\",\n",
    "    # source_dir=\"src/sklearn/preprocessing.py\",\n",
    "    inputs = [\n",
    "        ProcessingInput(\n",
    "            source=\"s3://sagemaker-sample-data-ap-southeast-1/processing/census/census-income.csv\",\n",
    "            destination=\"/opt/ml/processing/input\",\n",
    "            input_name=\"input-1\",\n",
    "        ),\n",
    "#         ProcessingInput(\n",
    "#             source=\"s3://wy-cba/source/preprocessing.py\",\n",
    "#             destination=\"/opt/ml/processing/input/code\",\n",
    "#             input_name=\"code\",\n",
    "#         ),\n",
    "    ],\n",
    "    outputs=[\n",
    "        ProcessingOutput(\n",
    "            source=\"/opt/ml/processing/train\",\n",
    "            destination=f\"s3://{s3_bucket}/sklearn/processed/train_data\",\n",
    "        ),\n",
    "        ProcessingOutput(\n",
    "            source=\"/opt/ml/processing/test\",\n",
    "            destination=f\"s3://{s3_bucket}/sklearn/processed/test_data\",\n",
    "        ),\n",
    "        ProcessingOutput(\n",
    "            source=\"/opt/ml/processing/model\",\n",
    "            destination=f\"s3://{s3_bucket}/sklearn/processed/model\",\n",
    "        ),\n",
    "    ],\n",
    "    arguments=[\n",
    "        \"--mode\",\n",
    "        \"train\",\n",
    "        \"--preprocessor_name\",\n",
    "        \"preprocessor.pkl\",\n",
    "        \"--test_size\",\n",
    "        \"0.2\",\n",
    "    ],\n",
    "    wait=True\n",
    ")\n",
    "\n",
    "preprocessing_job_description = processor.jobs[-1].describe()\n",
    "print(preprocessing_job_description)\n"
   ]
  },
  {
   "cell_type": "markdown",
   "metadata": {},
   "source": [
    "You can see the progress using SageMaker console under `Processing`.\n",
    "\n",
    "- sagemaker-scikit-learn-2021-09-20-09-52-52-053\n"
   ]
  },
  {
   "cell_type": "code",
   "execution_count": null,
   "metadata": {},
   "outputs": [],
   "source": []
  }
 ],
 "metadata": {
  "kernelspec": {
   "display_name": "conda_python3",
   "language": "python",
   "name": "conda_python3"
  },
  "language_info": {
   "codemirror_mode": {
    "name": "ipython",
    "version": 3
   },
   "file_extension": ".py",
   "mimetype": "text/x-python",
   "name": "python",
   "nbconvert_exporter": "python",
   "pygments_lexer": "ipython3",
   "version": "3.6.13"
  }
 },
 "nbformat": 4,
 "nbformat_minor": 4
}
