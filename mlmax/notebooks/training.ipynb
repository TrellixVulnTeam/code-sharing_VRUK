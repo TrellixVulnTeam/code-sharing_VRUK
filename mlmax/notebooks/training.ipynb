{
 "cells": [
  {
   "cell_type": "markdown",
   "metadata": {},
   "source": [
    "## SageMaker Training\n",
    "\n",
    "Now imagine that you have an idea of which model to use and has performed hyperparameter tuning. All the code has also been placed into a python script.\n",
    "\n",
    "Instead of running locally, you are now ready to perform data preprocessing using SageMaker framework processing job with managed ec2 instance.\n"
   ]
  },
  {
   "cell_type": "markdown",
   "metadata": {},
   "source": [
    "### Reference\n",
    "\n",
    "https://sagemaker.readthedocs.io/en/stable/overview.html#train-a-model-with-the-sagemaker-python-sdk\n",
    "\n",
    "- `SM_CHANNEL_XXXX`: A string that represents the path to the directory that contains the input data for the specified channel.\n",
    "\n",
    "- Example: \n",
    "\n",
    "```python\n",
    "\n",
    "# Trigger traininig job with SageMaker framework\n",
    "sklearn.fit({\"train\": s3_input_train, \"test\": s3_input_validation}, wait=False)\n",
    "\n",
    "# Retrieve the train/test data in python script\n",
    "parser.add_argument(\"--train\", type=str, default=\"/opt/ml/input/data/train\")\n",
    "parser.add_argument(\"--train\", type=str, default=os.environ['SM_CHANNEL_TRAIN'])\n",
    "parser.add_argument(\"--train\", type=str, os.getenv(\"SM_CHANNEL_TRAIN\", \"/opt/ml/input/data/train\")\n",
    "```"
   ]
  },
  {
   "cell_type": "markdown",
   "metadata": {},
   "source": [
    "### Setup\n",
    "\n",
    "Verify you have completed processing job with transformed data in `/tmp/{train, test, model}`"
   ]
  },
  {
   "cell_type": "markdown",
   "metadata": {},
   "source": [
    "### Verify python script\n",
    "\n",
    "Verify that your script can run successfully without any bug to speed up development"
   ]
  },
  {
   "cell_type": "code",
   "execution_count": 1,
   "metadata": {},
   "outputs": [
    {
     "name": "stdout",
     "output_type": "stream",
     "text": [
      "Received arguments Namespace(inspect=False, model_dir='/tmp/model', test='/tmp/test', train='/tmp/train')\n",
      "Reading train data from /tmp/train\n",
      "Reading test data from /tmp/test\n",
      "Training LR model\n",
      "Validating LR model\n",
      "Creating classification evaluation report\n",
      "Classification report:\n",
      "{'0': {'precision': 0.9405025868440503, 'recall': 0.7476498237367802, 'f1-score': 0.8330605564648118, 'support': 17020}, '1': {'precision': 0.38254744105807936, 'recall': 0.7677437968840162, 'f1-score': 0.510650546919977, 'support': 3466}, 'accuracy': 0.751049497217612, 'macro avg': {'precision': 0.6615250139510649, 'recall': 0.7576968103103983, 'f1-score': 0.6718555516923944, 'support': 20486}, 'weighted avg': {'precision': 0.8461028731227688, 'recall': 0.751049497217612, 'f1-score': 0.7785124214905661, 'support': 20486}, 'roc_auc': 0.7576968103103983}\n",
      "{'0': {'precision': 0.9405025868440503, 'recall': 0.7476498237367802, 'f1-score': 0.8330605564648118, 'support': 17020}, '1': {'precision': 0.38254744105807936, 'recall': 0.7677437968840162, 'f1-score': 0.510650546919977, 'support': 3466}, 'accuracy': 0.751049497217612, 'macro avg': {'precision': 0.6615250139510649, 'recall': 0.7576968103103983, 'f1-score': 0.6718555516923944, 'support': 20486}, 'weighted avg': {'precision': 0.8461028731227688, 'recall': 0.751049497217612, 'f1-score': 0.7785124214905661, 'support': 20486}, 'roc_auc': 0.7576968103103983}\n",
      "Saving model to /tmp/model/model.joblib\n"
     ]
    },
    {
     "name": "stderr",
     "output_type": "stream",
     "text": [
      "/home/ec2-user/anaconda3/envs/python3/lib/python3.6/site-packages/sklearn/utils/validation.py:63: DataConversionWarning: A column-vector y was passed when a 1d array was expected. Please change the shape of y to (n_samples, ), for example using ravel().\n",
      "  return f(*args, **kwargs)\n",
      "/home/ec2-user/anaconda3/envs/python3/lib/python3.6/site-packages/sklearn/linear_model/_logistic.py:765: ConvergenceWarning: lbfgs failed to converge (status=1):\n",
      "STOP: TOTAL NO. of ITERATIONS REACHED LIMIT.\n",
      "\n",
      "Increase the number of iterations (max_iter) or scale the data as shown in:\n",
      "    https://scikit-learn.org/stable/modules/preprocessing.html\n",
      "Please also refer to the documentation for alternative solver options:\n",
      "    https://scikit-learn.org/stable/modules/linear_model.html#logistic-regression\n",
      "  extra_warning_msg=_LOGISTIC_SOLVER_CONVERGENCE_MSG)\n"
     ]
    }
   ],
   "source": [
    "%%bash\n",
    "\n",
    "python ../src/mlmax/train.py --train /tmp/train --test /tmp/test --model-dir /tmp/model\n"
   ]
  },
  {
   "cell_type": "code",
   "execution_count": 2,
   "metadata": {},
   "outputs": [
    {
     "name": "stdout",
     "output_type": "stream",
     "text": [
      "total 8\n",
      "-rw-rw-r-- 1 ec2-user ec2-user 1462 Sep 21 00:15 model.joblib\n",
      "-rw-rw-r-- 1 ec2-user ec2-user 2672 Sep 21 00:14 proc_model.tar.gz\n"
     ]
    }
   ],
   "source": [
    "# Quick check on output files\n",
    "!ls -l /tmp/model"
   ]
  },
  {
   "cell_type": "markdown",
   "metadata": {},
   "source": [
    "### Run on SageMaker training\n",
    "\n",
    "Ref: https://github.com/aws/sagemaker-scikit-learn-container"
   ]
  },
  {
   "cell_type": "markdown",
   "metadata": {},
   "source": [
    "import required packages"
   ]
  },
  {
   "cell_type": "code",
   "execution_count": 3,
   "metadata": {},
   "outputs": [],
   "source": [
    "import sagemaker\n",
    "from sagemaker.sklearn.estimator import SKLearn\n",
    "from sagemaker.inputs import TrainingInput\n",
    "\n"
   ]
  },
  {
   "cell_type": "markdown",
   "metadata": {},
   "source": [
    "Setup directory and parameters"
   ]
  },
  {
   "cell_type": "code",
   "execution_count": 4,
   "metadata": {},
   "outputs": [],
   "source": [
    "role = \"arn:aws:iam::342474125894:role/service-role/AmazonSageMaker-ExecutionRole-20190405T234154\"\n",
    "s3_bucket = \"wy-project-template\""
   ]
  },
  {
   "cell_type": "markdown",
   "metadata": {},
   "source": [
    "Create sklearn processor"
   ]
  },
  {
   "cell_type": "code",
   "execution_count": 5,
   "metadata": {},
   "outputs": [
    {
     "name": "stdout",
     "output_type": "stream",
     "text": [
      "Container image: 121021644041.dkr.ecr.ap-southeast-1.amazonaws.com/sagemaker-scikit-learn:0.23-1-cpu-py3\n"
     ]
    }
   ],
   "source": [
    "local_mode = True\n",
    "\n",
    "if local_mode:\n",
    "    instance_type = \"local\"\n",
    "else:\n",
    "    instance_type = \"ml.m5.xlarge\"\n",
    "\n",
    "sklearn = SKLearn(\n",
    "    entry_point=\"../src/mlmax/train.py\",\n",
    "    instance_type=\"ml.m5.xlarge\",\n",
    "    role=role,\n",
    "    py_version=\"py3\",\n",
    "    framework_version=\"0.23-1\",\n",
    ")\n",
    "\n",
    "\n",
    "print(f\"Container image: {sklearn.image_uri}\")"
   ]
  },
  {
   "cell_type": "markdown",
   "metadata": {},
   "source": [
    "### S3 - Input data\n",
    "\n",
    "Understand the data mapping between S3 and local directory"
   ]
  },
  {
   "cell_type": "code",
   "execution_count": 6,
   "metadata": {},
   "outputs": [
    {
     "name": "stdout",
     "output_type": "stream",
     "text": [
      "{'TrainingJobName': 'sagemaker-scikit-learn-2021-09-21-00-15-34-278', 'TrainingJobArn': 'arn:aws:sagemaker:ap-southeast-1:342474125894:training-job/sagemaker-scikit-learn-2021-09-21-00-15-34-278', 'TrainingJobStatus': 'InProgress', 'SecondaryStatus': 'Starting', 'HyperParameters': {'sagemaker_container_log_level': '20', 'sagemaker_job_name': '\"sagemaker-scikit-learn-2021-09-21-00-15-34-278\"', 'sagemaker_program': '\"train.py\"', 'sagemaker_region': '\"ap-southeast-1\"', 'sagemaker_submit_directory': '\"s3://sagemaker-ap-southeast-1-342474125894/sagemaker-scikit-learn-2021-09-21-00-15-34-278/source/sourcedir.tar.gz\"'}, 'AlgorithmSpecification': {'TrainingImage': '121021644041.dkr.ecr.ap-southeast-1.amazonaws.com/sagemaker-scikit-learn:0.23-1-cpu-py3', 'TrainingInputMode': 'File', 'EnableSageMakerMetricsTimeSeries': False}, 'RoleArn': 'arn:aws:iam::342474125894:role/service-role/AmazonSageMaker-ExecutionRole-20190405T234154', 'InputDataConfig': [{'ChannelName': 'train', 'DataSource': {'S3DataSource': {'S3DataType': 'S3Prefix', 'S3Uri': 's3://wy-project-template/sklearn/processed/train_data/', 'S3DataDistributionType': 'FullyReplicated'}}, 'ContentType': 'csv', 'CompressionType': 'None', 'RecordWrapperType': 'None'}, {'ChannelName': 'test', 'DataSource': {'S3DataSource': {'S3DataType': 'S3Prefix', 'S3Uri': 's3://wy-project-template/sklearn/processed/test_data', 'S3DataDistributionType': 'FullyReplicated'}}, 'ContentType': 'csv', 'CompressionType': 'None', 'RecordWrapperType': 'None'}], 'OutputDataConfig': {'KmsKeyId': '', 'S3OutputPath': 's3://sagemaker-ap-southeast-1-342474125894/'}, 'ResourceConfig': {'InstanceType': 'ml.m5.xlarge', 'InstanceCount': 1, 'VolumeSizeInGB': 30}, 'StoppingCondition': {'MaxRuntimeInSeconds': 86400}, 'CreationTime': datetime.datetime(2021, 9, 21, 0, 15, 34, 966000, tzinfo=tzlocal()), 'LastModifiedTime': datetime.datetime(2021, 9, 21, 0, 15, 34, 966000, tzinfo=tzlocal()), 'SecondaryStatusTransitions': [{'Status': 'Starting', 'StartTime': datetime.datetime(2021, 9, 21, 0, 15, 34, 966000, tzinfo=tzlocal()), 'StatusMessage': 'Starting the training job'}], 'EnableNetworkIsolation': False, 'EnableInterContainerTrafficEncryption': False, 'EnableManagedSpotTraining': False, 'DebugHookConfig': {'S3OutputPath': 's3://sagemaker-ap-southeast-1-342474125894/', 'CollectionConfigurations': []}, 'ProfilerConfig': {'S3OutputPath': 's3://sagemaker-ap-southeast-1-342474125894/', 'ProfilingIntervalInMilliseconds': 500}, 'ProfilerRuleConfigurations': [{'RuleConfigurationName': 'ProfilerReport-1632183334', 'RuleEvaluatorImage': '972752614525.dkr.ecr.ap-southeast-1.amazonaws.com/sagemaker-debugger-rules:latest', 'VolumeSizeInGB': 0, 'RuleParameters': {'rule_to_invoke': 'ProfilerReport'}}], 'ProfilerRuleEvaluationStatuses': [{'RuleConfigurationName': 'ProfilerReport-1632183334', 'RuleEvaluationStatus': 'InProgress', 'LastModifiedTime': datetime.datetime(2021, 9, 21, 0, 15, 34, 966000, tzinfo=tzlocal())}], 'ProfilingStatus': 'Enabled', 'ResponseMetadata': {'RequestId': '0242a6bd-4433-4bc2-99d0-98059672f41a', 'HTTPStatusCode': 200, 'HTTPHeaders': {'x-amzn-requestid': '0242a6bd-4433-4bc2-99d0-98059672f41a', 'content-type': 'application/x-amz-json-1.1', 'content-length': '2761', 'date': 'Tue, 21 Sep 2021 00:15:34 GMT'}, 'RetryAttempts': 0}}\n"
     ]
    }
   ],
   "source": [
    "content_type = \"csv\"\n",
    "s3_input_train = TrainingInput(\n",
    "    s3_data=f\"s3://{s3_bucket}/sklearn/processed/train_data/\", content_type=content_type\n",
    ")\n",
    "s3_input_validation = TrainingInput(\n",
    "    s3_data=f\"s3://{s3_bucket}/sklearn/processed/test_data\", content_type=content_type\n",
    ")\n",
    "\n",
    "sklearn.fit({\"train\": s3_input_train, \"test\": s3_input_validation}, wait=False)\n",
    "\n",
    "\n",
    "preprocessing_job_description = sklearn.jobs[-1].describe()\n",
    "print(preprocessing_job_description)\n"
   ]
  },
  {
   "cell_type": "code",
   "execution_count": null,
   "metadata": {},
   "outputs": [],
   "source": []
  }
 ],
 "metadata": {
  "kernelspec": {
   "display_name": "conda_python3",
   "language": "python",
   "name": "conda_python3"
  },
  "language_info": {
   "codemirror_mode": {
    "name": "ipython",
    "version": 3
   },
   "file_extension": ".py",
   "mimetype": "text/x-python",
   "name": "python",
   "nbconvert_exporter": "python",
   "pygments_lexer": "ipython3",
   "version": "3.6.13"
  }
 },
 "nbformat": 4,
 "nbformat_minor": 4
}
